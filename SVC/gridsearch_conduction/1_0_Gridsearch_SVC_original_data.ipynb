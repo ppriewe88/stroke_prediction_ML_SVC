{
 "cells": [
  {
   "cell_type": "code",
   "execution_count": 90,
   "id": "7d635cd7-9c39-4337-8f0c-bea2662fbf8b",
   "metadata": {},
   "outputs": [],
   "source": [
    "from sklearn.preprocessing import StandardScaler\n",
    "from sklearn.svm import SVC\n",
    "from sklearn.pipeline import Pipeline\n",
    "from sklearn.model_selection import GridSearchCV\n",
    "import pickle\n",
    "import matplotlib.pyplot as plt\n",
    "import numpy as np\n",
    "import pandas as pd\n",
    "from datetime import datetime\n",
    "import warnings"
   ]
  },
  {
   "cell_type": "code",
   "execution_count": 91,
   "id": "c8fc05c3-19e6-449f-86d0-bd9cdaca368d",
   "metadata": {},
   "outputs": [],
   "source": [
    "with open('strokes_split_data.pkl', 'rb') as f:\n",
    "    df = pickle.load(f)\n",
    "\n",
    "X_train = df[\"X_train\"]\n",
    "Y_train = df[\"Y_train\"]"
   ]
  },
  {
   "cell_type": "code",
   "execution_count": 92,
   "id": "e9e38ca9-d89c-4023-9b98-4a41ec8c164f",
   "metadata": {},
   "outputs": [],
   "source": [
    "' ----------------------Steuerung: verwendete Spalten --------------------'\n",
    "drop_columns = [\n",
    "    # 'gender',\n",
    "    #  'age',\n",
    "    #  'hypertension',\n",
    "    #  'heart_disease',\n",
    "    #  'Residence_type',\n",
    "    #  'avg_glucose_level',\n",
    "    # 'bmi',\n",
    "    # , 'smoking_status',\n",
    "     'age_above_60'\n",
    "    , 'high_glucose'\n",
    "    , 'did_smoke'\n",
    "    , 'heart_risk'\n",
    "    , 'at_least_one_risk'\n",
    "    , 'at_least_one_risk_and_high_age'\n",
    "    , 'all_risks'\n",
    "    , 'risk_sum'\n",
    "    ]\n",
    "X_train = X_train.drop(columns=drop_columns)"
   ]
  },
  {
   "cell_type": "code",
   "execution_count": 93,
   "id": "ac5cec47-42ea-4965-a521-194ca6cd3896",
   "metadata": {},
   "outputs": [
    {
     "name": "stdout",
     "output_type": "stream",
     "text": [
      "----------------------- Modellparameter ----------------------\n"
     ]
    }
   ],
   "source": [
    "' ################# Hier Parameter initiale Modellsteuerung setzen!! ####################'\n",
    "print(\"----------------------- Modellparameter ----------------------\")\n",
    "classweight_y = 10\n",
    "gamma = 0.1\n",
    "' ############# Modellinstanz #########'\n",
    "svc = SVC(C=1.0  \n",
    "          , kernel='rbf'  \n",
    "          , degree=3   \n",
    "          , gamma= gamma\n",
    "          , coef0=0.0  \n",
    "          , shrinking=True  \n",
    "          , probability=True \n",
    "          , tol=0.001 \n",
    "          , cache_size=200  \n",
    "          , class_weight={0: 1, 1: classweight_y}  \n",
    "          , verbose=False \n",
    "          , max_iter=-1  \n",
    "          , decision_function_shape='ovo'  \n",
    "          , break_ties=False \n",
    "          , random_state=42)"
   ]
  },
  {
   "cell_type": "code",
   "execution_count": 94,
   "id": "6ac999e1-673b-41c5-8707-bec2616c39a2",
   "metadata": {},
   "outputs": [],
   "source": [
    "' ############# scaling ##################'\n",
    "scaler = StandardScaler()\n",
    "' ######################## Pipeline (Scaler + model) für Gridsearch #################'\n",
    "' ---------------- jetzt Pipeline mit Scaler und Modell erstellen -----'\n",
    "svc_pipeline = Pipeline([('scaler', StandardScaler()), ('svc', svc)])"
   ]
  },
  {
   "cell_type": "code",
   "execution_count": 108,
   "id": "2d7866fb-5fb3-4506-9184-98fa31baa72b",
   "metadata": {},
   "outputs": [
    {
     "name": "stdout",
     "output_type": "stream",
     "text": [
      "1\n",
      "9\n",
      "50\n"
     ]
    }
   ],
   "source": [
    "############# scope of gridsearch einstellen ###############\n",
    "scope_of_gridsearch = \"C_and_gamma_close_to_zero\"\n",
    "############################################################\n",
    "if scope_of_gridsearch == \"tradeoff_area\": ####### liefert große Fläche ##########\n",
    "    # Liste mit Klassengewichtungen erzeugen\n",
    "    y_weights = list(range(9,11, 1))\n",
    "    list_weight_classes = [{0: 1, 1: value} for value in y_weights]\n",
    "    # list_of_C_values = np.arange(0.1, 1, 0.05) # sehr feines C-grid, erste Berechnung\n",
    "    # list_of_gamma_values = np.arange(0.01, 0.5, 0.001)  # sehr feines gamma-grid, erste berechnung\n",
    "    list_of_C_values = np.arange(0.005, 1.05, 0.05) # weniger feines C-grid, erste Berechnung\n",
    "    list_of_gamma_values = np.arange(0.005, 0.305, 0.01)  # weniger feiner gamma-grid, zweite berechnung\n",
    "    grid_search_name = \"gridsearch_tradeoff_final.pkl\"\n",
    "elif scope_of_gridsearch == \"C_and_gamma_close_to_zero\": ############### kleine Ecke rund um Nullpunkt gamma und C ###\n",
    "    # Liste mit Klassengewichtungen erzeugen\n",
    "    y_weights = [11]\n",
    "    list_weight_classes = [{0: 1, 1: value} for value in y_weights]\n",
    "    list_of_C_values = np.arange(0.01, 0.1, 0.01)\n",
    "    list_of_gamma_values = np.arange(0.001, 0.051, 0.001)\n",
    "    grid_search_name = \"gridsearch_C_and_gamma_close_to_zero.pkl\"\n",
    "elif scope_of_gridsearch == \"only_gamma_close_to_zero\": ######### Band für winzige gamma, fast vollständiger C-Bereich ############\n",
    "    # Liste mit Klassengewichtungen erzeugen\n",
    "    y_weights = [11]\n",
    "    list_weight_classes = [{0: 1, 1: value} for value in y_weights]\n",
    "    list_of_C_values = np.arange(0.1, 1, 0.05)\n",
    "    list_of_gamma_values = np.arange(0.001, 0.01, 0.001)\n",
    "    grid_search_name = \"gridsearch_only_gamma_close_to_zero.pkl\"\n",
    "elif scope_of_gridsearch == \"only_C_close_to_zero\": ######### Restband für winzige C, vollständiger gamma-Bereich ############\n",
    "    # Liste mit Klassengewichtungen erzeugen\n",
    "    y_weights = [11]\n",
    "    list_weight_classes = [{0: 1, 1: value} for value in y_weights]\n",
    "    list_of_C_values = [0.01, 0.05]\n",
    "    list_of_gamma_values = np.arange(0.01, 0.5, 0.01)\n",
    "    grid_search_name = \"gridsearch_only_C_close_to_zero.pkl\"\n",
    "\n",
    "print(len(list_weight_classes))\n",
    "print(len(list_of_C_values))\n",
    "print(len(list_of_gamma_values))\n",
    "grid_parameters = {\"svc__C\": list_of_C_values\n",
    "              , \"svc__gamma\": list_of_gamma_values  # relevant. Große werte machen kleine Bereiche und andersrum!\n",
    "              , \"svc__class_weight\": list_weight_classes}\n",
    "\n",
    "gridsearch = GridSearchCV(svc_pipeline\n",
    "                          , grid_parameters\n",
    "                          , scoring=[\"recall\", \"precision\"]\n",
    "                          , cv=6\n",
    "                          , return_train_score=True\n",
    "                          , refit =\"recall\")"
   ]
  },
  {
   "cell_type": "code",
   "execution_count": 109,
   "id": "1e262917-cb84-48ca-9dab-a04358cf19be",
   "metadata": {},
   "outputs": [],
   "source": [
    "# Warnungen ignorieren\n",
    "warnings.filterwarnings(\"ignore\")"
   ]
  },
  {
   "cell_type": "code",
   "execution_count": 110,
   "id": "0ae9c065-38ce-473e-8607-d91f61b6585e",
   "metadata": {},
   "outputs": [
    {
     "name": "stdout",
     "output_type": "stream",
     "text": [
      "2025-01-13 17:22:34.477131\n"
     ]
    }
   ],
   "source": [
    "print(datetime.now())"
   ]
  },
  {
   "cell_type": "code",
   "execution_count": 111,
   "id": "ec926b5a-12ba-4c66-89b2-b413d1f18ed5",
   "metadata": {
    "scrolled": true
   },
   "outputs": [
    {
     "name": "stderr",
     "output_type": "stream",
     "text": [
      "\n",
      "KeyboardInterrupt\n",
      "\n"
     ]
    }
   ],
   "source": [
    "gridsearch.fit(X_train, Y_train)"
   ]
  },
  {
   "cell_type": "code",
   "execution_count": 100,
   "id": "24c5797e-26e4-4adf-9128-d0fbf1cc939d",
   "metadata": {},
   "outputs": [
    {
     "name": "stdout",
     "output_type": "stream",
     "text": [
      "2025-01-13 17:03:25.684773\n"
     ]
    }
   ],
   "source": [
    "print(datetime.now())"
   ]
  },
  {
   "cell_type": "code",
   "execution_count": 101,
   "id": "0c2d1a6c-0752-4119-9c40-f850745603f2",
   "metadata": {},
   "outputs": [],
   "source": [
    "############## Ergebnisse rausziehen #############\n",
    "final_model=gridsearch.best_estimator_\n",
    "cv_res = pd.DataFrame(gridsearch.cv_results_)\n",
    "cv_res_important_values = cv_res[[\"mean_test_recall\", \"mean_train_recall\", 'mean_test_precision','mean_train_precision',\"param_svc__C\", \"param_svc__gamma\", \"param_svc__class_weight\"]]\n",
    "pd.set_option('display.max_rows', None)  # Zeilen: Zeige alle\n",
    "pd.set_option('display.max_columns', None)  # Spalten: Zeige alle\n",
    "ergebnisse_sortiert = cv_res_important_values.sort_values(by=\"mean_test_recall\", ascending=False)"
   ]
  },
  {
   "cell_type": "code",
   "execution_count": 102,
   "id": "02a3d51e-a9e8-411d-b555-f87bdf0ed4e1",
   "metadata": {},
   "outputs": [],
   "source": [
    "############ Ergebnisse aktuell ausgewählte Gridsearch abspeichern ###########\n",
    "new_grid_search = {'Ergebnisse': ergebnisse_sortiert,\n",
    "                'final_model': final_model,\n",
    "                    \"grid_parameters\": grid_parameters}\n",
    "with open(grid_search_name, 'wb') as data:\n",
    "    # Einpacken von allen vorbereiteten Daten\n",
    "    pickle.dump(new_grid_search, data, pickle.HIGHEST_PROTOCOL)"
   ]
  },
  {
   "cell_type": "markdown",
   "id": "f8579a70-c662-4af5-b77f-1efb182991d9",
   "metadata": {},
   "source": [
    "# Einzelstücke verkleben"
   ]
  },
  {
   "cell_type": "code",
   "execution_count": 113,
   "id": "aae478f9-4af2-4420-98dd-faa2f8d9b283",
   "metadata": {},
   "outputs": [
    {
     "name": "stdout",
     "output_type": "stream",
     "text": [
      "gridsearch_C_and_gamma_close_to_zero.pkl\n"
     ]
    }
   ],
   "source": [
    "# #################### oben neu erzeugte Ergebnisse öffnen ########################\n",
    "with open(grid_search_name, 'rb') as f:\n",
    "    print(grid_search_name)\n",
    "    df = pickle.load(f)\n",
    "ergebnis = df[\"Ergebnisse\"]\n",
    "# ######################## ältere gridsearchergebnisse öffnen ##########\n",
    "with open(\"gridsearch_tradeoff_final.pkl\", 'rb') as f:\n",
    "    df = pickle.load(f)\n",
    "ergebnis = df[\"Ergebnisse\"]\n",
    "with open(\"gridsearch_C_and_gamma_close_to_zero.pkl\", 'rb') as f:\n",
    "    df = pickle.load(f)\n",
    "ergebnis1 = df[\"Ergebnisse\"]\n",
    "with open(\"gridsearch_only_gamma_close_to_zero.pkl\", 'rb') as f:\n",
    "    df = pickle.load(f)\n",
    "ergebnis2 = df[\"Ergebnisse\"]\n",
    "with open(\"gridsearch_only_C_close_to_zero.pkl\", 'rb') as f:\n",
    "    df = pickle.load(f)\n",
    "ergebnis3 = df[\"Ergebnisse\"]\n",
    "# ergebnis1.sort_values(by=[\"mean_train_recall\",\"mean_test_recall\"], ascending=[False, False]).head(3)"
   ]
  },
  {
   "cell_type": "code",
   "execution_count": 114,
   "id": "6ff84124-b8fd-4d2f-a150-e53d90e4b017",
   "metadata": {},
   "outputs": [],
   "source": [
    "############### alles zusammenhängen ranhängen #############\n",
    "ergebnis_combined = pd.concat([ergebnis, ergebnis1, ergebnis2, ergebnis3])\n",
    "ergebnis_combined = ergebnis_combined.sort_values(by=[\"mean_train_recall\",\"mean_test_recall\"], ascending=[False, False])\n",
    "\n",
    "save_merged_results = 0\n",
    "if save_merged_results ==1:\n",
    "    combined_grid_search = {'Ergebnisse': ergebnis_combined,\n",
    "                    'final_model': final_model,\n",
    "                        \"grid_parameters\": grid_parameters}\n",
    "    grid_search_name = \"gridsearch_complete_tradeoff_area_final.pkl\"\n",
    "    with open(grid_search_name, 'wb') as data:\n",
    "        # Einpacken von allen vorbereiteten Daten\n",
    "        pickle.dump(combined_grid_search, data, pickle.HIGHEST_PROTOCOL)"
   ]
  },
  {
   "cell_type": "code",
   "execution_count": null,
   "id": "e5594425-cee9-45d9-a0cd-f7a3d24bce21",
   "metadata": {},
   "outputs": [],
   "source": []
  }
 ],
 "metadata": {
  "kernelspec": {
   "display_name": "Python 3 (ipykernel)",
   "language": "python",
   "name": "python3"
  },
  "language_info": {
   "codemirror_mode": {
    "name": "ipython",
    "version": 3
   },
   "file_extension": ".py",
   "mimetype": "text/x-python",
   "name": "python",
   "nbconvert_exporter": "python",
   "pygments_lexer": "ipython3",
   "version": "3.12.2"
  }
 },
 "nbformat": 4,
 "nbformat_minor": 5
}
